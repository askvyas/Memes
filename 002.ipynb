{
 "cells": [
  {
   "cell_type": "code",
   "execution_count": 175,
   "metadata": {},
   "outputs": [],
   "source": [
    "from keras.preprocessing.text import Tokenizer\n",
    "from keras.preprocessing.sequence import pad_sequences\n",
    "from keras.models import Sequential\n",
    "from keras.layers import Dense, Flatten, Conv1D, MaxPooling1D, Dropout, Activation\n",
    "from keras.layers.embeddings import Embedding\n",
    "import nltk\n",
    "import string\n",
    "import numpy as np\n",
    "import pandas as pd\n",
    "import os\n",
    "import fasttext\n",
    "from nltk.corpus import stopwords\n",
    "from keras.preprocessing.text import Tokenizer\n",
    "from keras.layers import LSTM\n",
    "from sklearn.metrics import confusion_matrix \n",
    "from sklearn.metrics import accuracy_score \n",
    "from sklearn.metrics import classification_report \n"
   ]
  },
  {
   "cell_type": "code",
   "execution_count": 138,
   "metadata": {},
   "outputs": [],
   "source": [
    "df_raw=pd.read_csv('OffensiveMemes.csv')"
   ]
  },
  {
   "cell_type": "code",
   "execution_count": 139,
   "metadata": {},
   "outputs": [],
   "source": [
    "\n",
    "import pandas as pd\n",
    "import re\n",
    "df_raw['text_corrected']=df_raw['text_corrected'].astype(str)\n",
    "df_raw['text_corrected'] = df_raw.fillna({'data':''})\n",
    "def clean_text(text):\n",
    "    \n",
    "    ## Remove puncuation\n",
    "    text = text.translate(string.punctuation)\n",
    "    \n",
    "    ## Convert words to lower case and split them\n",
    "    text = text.lower().split()\n",
    "    \n",
    "    ## Remove stop words\n",
    "    stops = set(stopwords.words(\"english\"))\n",
    "    text = [w for w in text if not w in stops and len(w) >= 3]\n",
    "    \n",
    "    text = \" \".join(text)\n",
    "    ## Clean the text\n",
    "    text = re.sub(r\"[^A-Za-z0-9^,!.\\/'+-=]\", \" \", text)\n",
    "    text = re.sub(r\"what's\", \"what is \", text)\n",
    "    text = re.sub(r\"\\'s\", \" \", text)\n",
    "    text = re.sub(r\"\\'ve\", \" have \", text)\n",
    "    text = re.sub(r\"n't\", \" not \", text)\n",
    "    text = re.sub(r\"i'm\", \"i am \", text)\n",
    "    text = re.sub(r\"\\'re\", \" are \", text)\n",
    "    text = re.sub(r\"\\'d\", \" would \", text)\n",
    "    text = re.sub(r\"\\'ll\", \" will \", text)\n",
    "    text = re.sub(r\",\", \" \", text)\n",
    "    text = re.sub(r\"\\.\", \" \", text)\n",
    "    text = re.sub(r\"!\", \" ! \", text)\n",
    "    text = re.sub(r\"\\/\", \" \", text)\n",
    "    text = re.sub(r\"\\^\", \" ^ \", text)\n",
    "    text = re.sub(r\"\\+\", \" + \", text)\n",
    "    text = re.sub(r\"\\-\", \" - \", text)\n",
    "    text = re.sub(r\"\\=\", \" = \", text)\n",
    "    text = re.sub(r\"'\", \" \", text)\n",
    "    text = re.sub(r\"(\\d+)(k)\", r\"\\g<1>000\", text)\n",
    "    text = re.sub(r\":\", \" : \", text)\n",
    "    text = re.sub(r\" e g \", \" eg \", text)\n",
    "    text = re.sub(r\" b g \", \" bg \", text)\n",
    "    text = re.sub(r\" u s \", \" american \", text)\n",
    "    text = re.sub(r\"\\0s\", \"0\", text)\n",
    "    text = re.sub(r\" 9 11 \", \"911\", text)\n",
    "    text = re.sub(r\"e - mail\", \"email\", text)\n",
    "    text = re.sub(r\"\\s{2,}\", \" \", text)\n",
    "    return text\n",
    "# apply the above function to df['text']\n",
    "df_raw['text_corrected'] = df_raw.fillna({'data':''})\n",
    "\n",
    "df_raw['text_corrected'] = df_raw['text_corrected'].map(lambda x: clean_text(x))\n"
   ]
  },
  {
   "cell_type": "code",
   "execution_count": 140,
   "metadata": {},
   "outputs": [],
   "source": [
    "df_c=df_raw[['text_corrected','offensive']]"
   ]
  },
  {
   "cell_type": "code",
   "execution_count": 141,
   "metadata": {},
   "outputs": [
    {
     "data": {
      "text/plain": [
       "<matplotlib.axes._subplots.AxesSubplot at 0x13794df50>"
      ]
     },
     "execution_count": 141,
     "metadata": {},
     "output_type": "execute_result"
    },
    {
     "data": {
      "image/png": "[encoded data removed]",
      "text/plain": [
       "<Figure size 432x288 with 1 Axes>"
      ]
     },
     "metadata": {
      "needs_background": "light"
     },
     "output_type": "display_data"
    }
   ],
   "source": [
    "df_c.offensive.value_counts().plot(kind='bar')"
   ]
  },
  {
   "cell_type": "code",
   "execution_count": null,
   "metadata": {},
   "outputs": [],
   "source": []
  },
  {
   "cell_type": "code",
   "execution_count": 144,
   "metadata": {},
   "outputs": [
    {
     "data": {
      "text/plain": [
       "<matplotlib.axes._subplots.AxesSubplot at 0x13797e6d0>"
      ]
     },
     "execution_count": 144,
     "metadata": {},
     "output_type": "execute_result"
    },
    {
     "data": {
      "image/png": "[encoded data removed]",
      "text/plain": [
       "<Figure size 432x288 with 1 Axes>"
      ]
     },
     "metadata": {
      "needs_background": "light"
     },
     "output_type": "display_data"
    }
   ],
   "source": [
    "df_b=df_c[['text_corrected']]\n",
    "\n",
    "def binarycl(df_c):\n",
    "    if(df_c['offensive']=='not_offensive'):\n",
    "        return 'not_offensive'\n",
    "    else:\n",
    "        return 'offensive'\n",
    "        \n",
    "df_b= df_b.assign(binary = df_c.apply(binarycl, axis=1))\n",
    "df_b=df_b[['text_corrected','binary']]\n",
    "df_b.binary.value_counts().plot(kind='bar')"
   ]
  },
  {
   "cell_type": "code",
   "execution_count": 145,
   "metadata": {},
   "outputs": [],
   "source": [
    "tmp=df_b[df_b['binary']=='offensive']"
   ]
  },
  {
   "cell_type": "code",
   "execution_count": 146,
   "metadata": {},
   "outputs": [
    {
     "data": {
      "text/html": [
       "<div>\n",
       "<style scoped>\n",
       "    .dataframe tbody tr th:only-of-type {\n",
       "        vertical-align: middle;\n",
       "    }\n",
       "\n",
       "    .dataframe tbody tr th {\n",
       "        vertical-align: top;\n",
       "    }\n",
       "\n",
       "    .dataframe thead th {\n",
       "        text-align: right;\n",
       "    }\n",
       "</style>\n",
       "<table border=\"1\" class=\"dataframe\">\n",
       "  <thead>\n",
       "    <tr style=\"text-align: right;\">\n",
       "      <th></th>\n",
       "      <th>text_corrected</th>\n",
       "      <th>binary</th>\n",
       "    </tr>\n",
       "  </thead>\n",
       "  <tbody>\n",
       "    <tr>\n",
       "      <th>3</th>\n",
       "      <td>image 4 png</td>\n",
       "      <td>offensive</td>\n",
       "    </tr>\n",
       "    <tr>\n",
       "      <th>4</th>\n",
       "      <td>image 5 png</td>\n",
       "      <td>offensive</td>\n",
       "    </tr>\n",
       "    <tr>\n",
       "      <th>5</th>\n",
       "      <td>image 6 jpg</td>\n",
       "      <td>offensive</td>\n",
       "    </tr>\n",
       "    <tr>\n",
       "      <th>8</th>\n",
       "      <td>image 9 jpg</td>\n",
       "      <td>offensive</td>\n",
       "    </tr>\n",
       "    <tr>\n",
       "      <th>9</th>\n",
       "      <td>image 10 png</td>\n",
       "      <td>offensive</td>\n",
       "    </tr>\n",
       "    <tr>\n",
       "      <th>...</th>\n",
       "      <td>...</td>\n",
       "      <td>...</td>\n",
       "    </tr>\n",
       "    <tr>\n",
       "      <th>6982</th>\n",
       "      <td>image 6983 jpg</td>\n",
       "      <td>offensive</td>\n",
       "    </tr>\n",
       "    <tr>\n",
       "      <th>6983</th>\n",
       "      <td>image 6984 jpg</td>\n",
       "      <td>offensive</td>\n",
       "    </tr>\n",
       "    <tr>\n",
       "      <th>6984</th>\n",
       "      <td>image 6985 jpg</td>\n",
       "      <td>offensive</td>\n",
       "    </tr>\n",
       "    <tr>\n",
       "      <th>6987</th>\n",
       "      <td>image 6988 jpg</td>\n",
       "      <td>offensive</td>\n",
       "    </tr>\n",
       "    <tr>\n",
       "      <th>6989</th>\n",
       "      <td>image 6990 png</td>\n",
       "      <td>offensive</td>\n",
       "    </tr>\n",
       "  </tbody>\n",
       "</table>\n",
       "<p>4279 rows × 2 columns</p>\n",
       "</div>"
      ],
      "text/plain": [
       "      text_corrected     binary\n",
       "3        image 4 png  offensive\n",
       "4        image 5 png  offensive\n",
       "5        image 6 jpg  offensive\n",
       "8        image 9 jpg  offensive\n",
       "9       image 10 png  offensive\n",
       "...              ...        ...\n",
       "6982  image 6983 jpg  offensive\n",
       "6983  image 6984 jpg  offensive\n",
       "6984  image 6985 jpg  offensive\n",
       "6987  image 6988 jpg  offensive\n",
       "6989  image 6990 png  offensive\n",
       "\n",
       "[4279 rows x 2 columns]"
      ]
     },
     "execution_count": 146,
     "metadata": {},
     "output_type": "execute_result"
    }
   ],
   "source": [
    "tmp"
   ]
  },
  {
   "cell_type": "code",
   "execution_count": 147,
   "metadata": {},
   "outputs": [],
   "source": [
    "df_bt=tmp.head(2713)"
   ]
  },
  {
   "cell_type": "code",
   "execution_count": 148,
   "metadata": {},
   "outputs": [
    {
     "data": {
      "text/html": [
       "<div>\n",
       "<style scoped>\n",
       "    .dataframe tbody tr th:only-of-type {\n",
       "        vertical-align: middle;\n",
       "    }\n",
       "\n",
       "    .dataframe tbody tr th {\n",
       "        vertical-align: top;\n",
       "    }\n",
       "\n",
       "    .dataframe thead th {\n",
       "        text-align: right;\n",
       "    }\n",
       "</style>\n",
       "<table border=\"1\" class=\"dataframe\">\n",
       "  <thead>\n",
       "    <tr style=\"text-align: right;\">\n",
       "      <th></th>\n",
       "      <th>text_corrected</th>\n",
       "      <th>binary</th>\n",
       "    </tr>\n",
       "  </thead>\n",
       "  <tbody>\n",
       "    <tr>\n",
       "      <th>3</th>\n",
       "      <td>image 4 png</td>\n",
       "      <td>offensive</td>\n",
       "    </tr>\n",
       "    <tr>\n",
       "      <th>4</th>\n",
       "      <td>image 5 png</td>\n",
       "      <td>offensive</td>\n",
       "    </tr>\n",
       "    <tr>\n",
       "      <th>5</th>\n",
       "      <td>image 6 jpg</td>\n",
       "      <td>offensive</td>\n",
       "    </tr>\n",
       "    <tr>\n",
       "      <th>8</th>\n",
       "      <td>image 9 jpg</td>\n",
       "      <td>offensive</td>\n",
       "    </tr>\n",
       "    <tr>\n",
       "      <th>9</th>\n",
       "      <td>image 10 png</td>\n",
       "      <td>offensive</td>\n",
       "    </tr>\n",
       "    <tr>\n",
       "      <th>...</th>\n",
       "      <td>...</td>\n",
       "      <td>...</td>\n",
       "    </tr>\n",
       "    <tr>\n",
       "      <th>4455</th>\n",
       "      <td>image 4456 jpg</td>\n",
       "      <td>offensive</td>\n",
       "    </tr>\n",
       "    <tr>\n",
       "      <th>4456</th>\n",
       "      <td>image 4457 jpg</td>\n",
       "      <td>offensive</td>\n",
       "    </tr>\n",
       "    <tr>\n",
       "      <th>4457</th>\n",
       "      <td>image 4458 png</td>\n",
       "      <td>offensive</td>\n",
       "    </tr>\n",
       "    <tr>\n",
       "      <th>4459</th>\n",
       "      <td>image 4460 png</td>\n",
       "      <td>offensive</td>\n",
       "    </tr>\n",
       "    <tr>\n",
       "      <th>4460</th>\n",
       "      <td>image 4461 jpg</td>\n",
       "      <td>offensive</td>\n",
       "    </tr>\n",
       "  </tbody>\n",
       "</table>\n",
       "<p>2713 rows × 2 columns</p>\n",
       "</div>"
      ],
      "text/plain": [
       "      text_corrected     binary\n",
       "3        image 4 png  offensive\n",
       "4        image 5 png  offensive\n",
       "5        image 6 jpg  offensive\n",
       "8        image 9 jpg  offensive\n",
       "9       image 10 png  offensive\n",
       "...              ...        ...\n",
       "4455  image 4456 jpg  offensive\n",
       "4456  image 4457 jpg  offensive\n",
       "4457  image 4458 png  offensive\n",
       "4459  image 4460 png  offensive\n",
       "4460  image 4461 jpg  offensive\n",
       "\n",
       "[2713 rows x 2 columns]"
      ]
     },
     "execution_count": 148,
     "metadata": {},
     "output_type": "execute_result"
    }
   ],
   "source": [
    "df_bt"
   ]
  },
  {
   "cell_type": "code",
   "execution_count": null,
   "metadata": {},
   "outputs": [],
   "source": []
  },
  {
   "cell_type": "code",
   "execution_count": 149,
   "metadata": {},
   "outputs": [],
   "source": [
    "df_bt=df_bt.head(2613)"
   ]
  },
  {
   "cell_type": "code",
   "execution_count": 150,
   "metadata": {},
   "outputs": [],
   "source": [
    "vld=df_bt.sample(0)\n",
    "vld=vld.append(tmp.tail(100))\n",
    "vld\n",
    "vld=vld.append((df_b[df_b['binary']=='not_offensive'])).tail(100)"
   ]
  },
  {
   "cell_type": "code",
   "execution_count": 151,
   "metadata": {},
   "outputs": [
    {
     "data": {
      "text/html": [
       "<div>\n",
       "<style scoped>\n",
       "    .dataframe tbody tr th:only-of-type {\n",
       "        vertical-align: middle;\n",
       "    }\n",
       "\n",
       "    .dataframe tbody tr th {\n",
       "        vertical-align: top;\n",
       "    }\n",
       "\n",
       "    .dataframe thead th {\n",
       "        text-align: right;\n",
       "    }\n",
       "</style>\n",
       "<table border=\"1\" class=\"dataframe\">\n",
       "  <thead>\n",
       "    <tr style=\"text-align: right;\">\n",
       "      <th></th>\n",
       "      <th>text_corrected</th>\n",
       "      <th>binary</th>\n",
       "    </tr>\n",
       "  </thead>\n",
       "  <tbody>\n",
       "    <tr>\n",
       "      <th>6726</th>\n",
       "      <td>image 6727 jpg</td>\n",
       "      <td>not_offensive</td>\n",
       "    </tr>\n",
       "    <tr>\n",
       "      <th>6727</th>\n",
       "      <td>image 6728 jpg</td>\n",
       "      <td>not_offensive</td>\n",
       "    </tr>\n",
       "    <tr>\n",
       "      <th>6729</th>\n",
       "      <td>image 6730 jpg</td>\n",
       "      <td>not_offensive</td>\n",
       "    </tr>\n",
       "    <tr>\n",
       "      <th>6731</th>\n",
       "      <td>image 6732 jpg</td>\n",
       "      <td>not_offensive</td>\n",
       "    </tr>\n",
       "    <tr>\n",
       "      <th>6732</th>\n",
       "      <td>image 6733 jpg</td>\n",
       "      <td>not_offensive</td>\n",
       "    </tr>\n",
       "    <tr>\n",
       "      <th>...</th>\n",
       "      <td>...</td>\n",
       "      <td>...</td>\n",
       "    </tr>\n",
       "    <tr>\n",
       "      <th>6985</th>\n",
       "      <td>image 6986 jpg</td>\n",
       "      <td>not_offensive</td>\n",
       "    </tr>\n",
       "    <tr>\n",
       "      <th>6986</th>\n",
       "      <td>image 6987 jpg</td>\n",
       "      <td>not_offensive</td>\n",
       "    </tr>\n",
       "    <tr>\n",
       "      <th>6988</th>\n",
       "      <td>image 6989 jpg</td>\n",
       "      <td>not_offensive</td>\n",
       "    </tr>\n",
       "    <tr>\n",
       "      <th>6990</th>\n",
       "      <td>image 6991 jpg</td>\n",
       "      <td>not_offensive</td>\n",
       "    </tr>\n",
       "    <tr>\n",
       "      <th>6991</th>\n",
       "      <td>image 6992 jpg</td>\n",
       "      <td>not_offensive</td>\n",
       "    </tr>\n",
       "  </tbody>\n",
       "</table>\n",
       "<p>100 rows × 2 columns</p>\n",
       "</div>"
      ],
      "text/plain": [
       "      text_corrected         binary\n",
       "6726  image 6727 jpg  not_offensive\n",
       "6727  image 6728 jpg  not_offensive\n",
       "6729  image 6730 jpg  not_offensive\n",
       "6731  image 6732 jpg  not_offensive\n",
       "6732  image 6733 jpg  not_offensive\n",
       "...              ...            ...\n",
       "6985  image 6986 jpg  not_offensive\n",
       "6986  image 6987 jpg  not_offensive\n",
       "6988  image 6989 jpg  not_offensive\n",
       "6990  image 6991 jpg  not_offensive\n",
       "6991  image 6992 jpg  not_offensive\n",
       "\n",
       "[100 rows x 2 columns]"
      ]
     },
     "execution_count": 151,
     "metadata": {},
     "output_type": "execute_result"
    }
   ],
   "source": [
    "vld"
   ]
  },
  {
   "cell_type": "code",
   "execution_count": 152,
   "metadata": {},
   "outputs": [],
   "source": [
    "tps=(df_b[df_b['binary']=='not_offensive']).fillna(0)"
   ]
  },
  {
   "cell_type": "code",
   "execution_count": 153,
   "metadata": {},
   "outputs": [
    {
     "data": {
      "text/plain": [
       "offensive        2613\n",
       "not_offensive    2613\n",
       "Name: binary, dtype: int64"
      ]
     },
     "execution_count": 153,
     "metadata": {},
     "output_type": "execute_result"
    }
   ],
   "source": [
    "df_bt=df_bt.append(tps.head(2613))\n",
    "df_bt.binary.value_counts()"
   ]
  },
  {
   "cell_type": "code",
   "execution_count": 154,
   "metadata": {},
   "outputs": [
    {
     "data": {
      "text/plain": [
       "<matplotlib.axes._subplots.AxesSubplot at 0x141a28c90>"
      ]
     },
     "execution_count": 154,
     "metadata": {},
     "output_type": "execute_result"
    },
    {
     "data": {
      "image/png": "[encoded data removed]",
      "text/plain": [
       "<Figure size 432x288 with 1 Axes>"
      ]
     },
     "metadata": {
      "needs_background": "light"
     },
     "output_type": "display_data"
    }
   ],
   "source": [
    "df_bt.binary.value_counts().plot(kind='bar')"
   ]
  },
  {
   "cell_type": "code",
   "execution_count": null,
   "metadata": {},
   "outputs": [],
   "source": []
  },
  {
   "cell_type": "code",
   "execution_count": 155,
   "metadata": {},
   "outputs": [
    {
     "data": {
      "text/plain": [
       "<matplotlib.axes._subplots.AxesSubplot at 0x13797ed10>"
      ]
     },
     "execution_count": 155,
     "metadata": {},
     "output_type": "execute_result"
    },
    {
     "data": {
      "image/png": "[encoded data removed]",
      "text/plain": [
       "<Figure size 432x288 with 1 Axes>"
      ]
     },
     "metadata": {
      "needs_background": "light"
     },
     "output_type": "display_data"
    }
   ],
   "source": [
    "vld.binary.value_counts().plot(kind='bar')"
   ]
  },
  {
   "cell_type": "code",
   "execution_count": 156,
   "metadata": {},
   "outputs": [
    {
     "name": "stdout",
     "output_type": "stream",
     "text": [
      "/Users/askvyas/Documents/Memes/bin2t.txt\n"
     ]
    }
   ],
   "source": [
    "#Binary Training\n",
    "data_f=pd.DataFrame(df_bt, columns = ['text_corrected', 'binary'])\n",
    "\n",
    "data_f = data_f.rename(columns={\"text_corrected\":\"text\", \"binary\":\"label\"})\n",
    "\n",
    "\n",
    "data_f['label'] = '__label__' + data_f['label'].astype(str)\n",
    "data_f.to_csv('bin2t.txt', sep='\\t', index = False, header = False)\n",
    "\n",
    "\n",
    "\n",
    "two_train_data=os.getcwd()+'/bin2t.txt'\n",
    "print(two_train_data)"
   ]
  },
  {
   "cell_type": "code",
   "execution_count": 157,
   "metadata": {},
   "outputs": [
    {
     "name": "stdout",
     "output_type": "stream",
     "text": [
      "/Users/askvyas/Documents/Memes/bin_2.train.txt\n"
     ]
    }
   ],
   "source": [
    "#Binary Testing\n",
    "data_t=pd.DataFrame(vld, columns = ['text_corrected', 'binary'])\n",
    "\n",
    "data_t = data_t.rename(columns={\"text_corrected\":\"text\", \"binary\":\"label\"})\n",
    "\n",
    "\n",
    "data_t['label'] = '__label__' + data_t['label'].astype(str)\n",
    "data_t.to_csv('bin_2.train.txt', sep='\\t', index = False, header = False)\n",
    "\n",
    "\n",
    "two_test_data=os.getcwd()+'/bin_2.train.txt'\n",
    "print(two_test_data)"
   ]
  },
  {
   "cell_type": "code",
   "execution_count": 158,
   "metadata": {},
   "outputs": [],
   "source": [
    "f = open('/Users/askvyas/Documents/wiki-news-300d-1M.vec', encoding = 'utf8')\n"
   ]
  },
  {
   "cell_type": "code",
   "execution_count": null,
   "metadata": {},
   "outputs": [],
   "source": []
  },
  {
   "cell_type": "code",
   "execution_count": null,
   "metadata": {},
   "outputs": [],
   "source": []
  },
  {
   "cell_type": "code",
   "execution_count": 159,
   "metadata": {},
   "outputs": [],
   "source": [
    "hyper_params = {\"lr\": 0.01,\n",
    "                        \"epoch\": 20,\n",
    "                        \"wordNgrams\": 2,\n",
    "                        \"dim\": 300,\n",
    "               \"pretrainedVectors\":'/Users/askvyas/Documents/wiki-news-300d-1M.vec'\n",
    "               }\n",
    "\n",
    "\n",
    "model_bin = fasttext.train_supervised(input=two_train_data, **hyper_params)\n",
    "\n"
   ]
  },
  {
   "cell_type": "code",
   "execution_count": 160,
   "metadata": {},
   "outputs": [
    {
     "name": "stdout",
     "output_type": "stream",
     "text": [
      "accuracy:1.0,validation:1.0\n",
      "\n"
     ]
    }
   ],
   "source": [
    "result = model_bin.test(two_train_data)\n",
    "validation = model_bin.test(two_test_data)\n",
    "# DISPLAY ACCURACY OF TRAINED MODEL\n",
    "text_line = \"accuracy:\" + str(result[1])  + \",validation:\" + str(validation[1]) + '\\n' \n",
    "print(text_line)\n"
   ]
  },
  {
   "cell_type": "code",
   "execution_count": 161,
   "metadata": {},
   "outputs": [],
   "source": [
    "### Create sequence\n",
    "df_bt['text_corrected']=df_bt['text_corrected'].astype(str)\n",
    "vocabulary_size = 20000\n",
    "tokenizer = Tokenizer(num_words= vocabulary_size)\n",
    "tokenizer.fit_on_texts(df_bt['text_corrected'])\n",
    "sequences = tokenizer.texts_to_sequences(df_bt['text_corrected'])\n",
    "data = pad_sequences(sequences, maxlen=50)"
   ]
  },
  {
   "cell_type": "code",
   "execution_count": 162,
   "metadata": {},
   "outputs": [],
   "source": [
    "f = open('/Users/askvyas/Documents/wiki-news-300d-1M.vec', encoding = 'utf8')"
   ]
  },
  {
   "cell_type": "code",
   "execution_count": 163,
   "metadata": {},
   "outputs": [],
   "source": [
    "embeddings_index = dict()\n",
    "for line in f:\n",
    "    values = line.split(' ')\n",
    "    word = values[0]\n",
    "    coefs = np.asarray(values[1:], dtype='float32')\n",
    "    embeddings_index[word] = coefs\n",
    "f.close()"
   ]
  },
  {
   "cell_type": "code",
   "execution_count": 164,
   "metadata": {},
   "outputs": [],
   "source": [
    "embedding_matrix = np.zeros((20000, 300))\n",
    "for word, index in tokenizer.word_index.items():\n",
    "    if index > 20000 - 1:\n",
    "        break\n",
    "    else:\n",
    "        embedding_vector = embeddings_index.get(word)\n",
    "        if embedding_vector is not None:\n",
    "            embedding_matrix[index] = embedding_vector"
   ]
  },
  {
   "cell_type": "code",
   "execution_count": 165,
   "metadata": {},
   "outputs": [],
   "source": [
    "model_glove = Sequential()\n",
    "model_glove.add(Embedding(vocabulary_size, 300, input_length=50, weights=[embedding_matrix], trainable=False))\n",
    "model_glove.add(Dropout(0.2))\n",
    "model_glove.add(Conv1D(64, 5, activation='relu'))\n",
    "model_glove.add(MaxPooling1D(pool_size=4))\n",
    "model_glove.add(LSTM(100))\n",
    "model_glove.add(Dense(1, activation='sigmoid'))\n",
    "model_glove.compile(loss='binary_crossentropy', optimizer='adam', metrics=['accuracy'])"
   ]
  },
  {
   "cell_type": "code",
   "execution_count": 166,
   "metadata": {},
   "outputs": [
    {
     "name": "stdout",
     "output_type": "stream",
     "text": [
      "(20000, 300)\n",
      "(5226, 50)\n"
     ]
    }
   ],
   "source": [
    "print(embedding_matrix.shape)\n",
    "print(data.shape)"
   ]
  },
  {
   "cell_type": "code",
   "execution_count": 167,
   "metadata": {},
   "outputs": [],
   "source": [
    "labels=df_bt.binary.map(lambda x:0 if x=='not_offensive' else 1)"
   ]
  },
  {
   "cell_type": "code",
   "execution_count": 173,
   "metadata": {},
   "outputs": [
    {
     "name": "stdout",
     "output_type": "stream",
     "text": [
      "Train on 4180 samples, validate on 1046 samples\n",
      "Epoch 1/20\n",
      "4180/4180 [==============================] - 5s 1ms/step - loss: 0.6668 - accuracy: 0.6251 - val_loss: 0.9513 - val_accuracy: 0.0000e+00\n",
      "Epoch 2/20\n",
      "4180/4180 [==============================] - 5s 1ms/step - loss: 0.6620 - accuracy: 0.6251 - val_loss: 0.9544 - val_accuracy: 0.0000e+00\n",
      "Epoch 3/20\n",
      "4180/4180 [==============================] - 5s 1ms/step - loss: 0.6625 - accuracy: 0.6251 - val_loss: 1.0005 - val_accuracy: 0.0000e+00\n",
      "Epoch 4/20\n",
      "4180/4180 [==============================] - 5s 1ms/step - loss: 0.6617 - accuracy: 0.6251 - val_loss: 0.9896 - val_accuracy: 0.0000e+00\n",
      "Epoch 5/20\n",
      "4180/4180 [==============================] - 6s 1ms/step - loss: 0.6620 - accuracy: 0.6251 - val_loss: 1.0204 - val_accuracy: 0.0000e+00\n",
      "Epoch 6/20\n",
      "4180/4180 [==============================] - 5s 1ms/step - loss: 0.6618 - accuracy: 0.6251 - val_loss: 0.9988 - val_accuracy: 0.0000e+00\n",
      "Epoch 7/20\n",
      "4180/4180 [==============================] - 5s 1ms/step - loss: 0.6618 - accuracy: 0.6251 - val_loss: 0.9473 - val_accuracy: 0.0000e+00\n",
      "Epoch 8/20\n",
      "4180/4180 [==============================] - 7s 2ms/step - loss: 0.6619 - accuracy: 0.6251 - val_loss: 0.9655 - val_accuracy: 0.0000e+00\n",
      "Epoch 9/20\n",
      "4180/4180 [==============================] - 7s 2ms/step - loss: 0.6623 - accuracy: 0.6251 - val_loss: 0.8869 - val_accuracy: 0.0000e+00\n",
      "Epoch 10/20\n",
      "4180/4180 [==============================] - 6s 2ms/step - loss: 0.6621 - accuracy: 0.6251 - val_loss: 0.9562 - val_accuracy: 0.0000e+00\n",
      "Epoch 11/20\n",
      "4180/4180 [==============================] - 5s 1ms/step - loss: 0.6628 - accuracy: 0.6251 - val_loss: 0.9930 - val_accuracy: 0.0000e+00\n",
      "Epoch 12/20\n",
      "4180/4180 [==============================] - 6s 1ms/step - loss: 0.6619 - accuracy: 0.6251 - val_loss: 0.9940 - val_accuracy: 0.0000e+00\n",
      "Epoch 13/20\n",
      "4180/4180 [==============================] - 6s 1ms/step - loss: 0.6623 - accuracy: 0.6251 - val_loss: 1.0343 - val_accuracy: 0.0000e+00\n",
      "Epoch 14/20\n",
      "4180/4180 [==============================] - 6s 1ms/step - loss: 0.6619 - accuracy: 0.6251 - val_loss: 0.9941 - val_accuracy: 0.0000e+00\n",
      "Epoch 15/20\n",
      "4180/4180 [==============================] - 7s 2ms/step - loss: 0.6619 - accuracy: 0.6251 - val_loss: 1.0153 - val_accuracy: 0.0000e+00\n",
      "Epoch 16/20\n",
      "4180/4180 [==============================] - 5s 1ms/step - loss: 0.6620 - accuracy: 0.6251 - val_loss: 0.9764 - val_accuracy: 0.0000e+00\n",
      "Epoch 17/20\n",
      "4180/4180 [==============================] - 5s 1ms/step - loss: 0.6619 - accuracy: 0.6251 - val_loss: 1.0055 - val_accuracy: 0.0000e+00\n",
      "Epoch 18/20\n",
      "4180/4180 [==============================] - 5s 1ms/step - loss: 0.6621 - accuracy: 0.6251 - val_loss: 0.9647 - val_accuracy: 0.0000e+00\n",
      "Epoch 19/20\n",
      "4180/4180 [==============================] - 5s 1ms/step - loss: 0.6622 - accuracy: 0.6251 - val_loss: 1.0007 - val_accuracy: 0.0000e+00\n",
      "Epoch 20/20\n",
      "4180/4180 [==============================] - 5s 1ms/step - loss: 0.6621 - accuracy: 0.6251 - val_loss: 0.9553 - val_accuracy: 0.0000e+00\n"
     ]
    },
    {
     "data": {
      "text/plain": [
       "<keras.callbacks.callbacks.History at 0x1403a5bd0>"
      ]
     },
     "execution_count": 173,
     "metadata": {},
     "output_type": "execute_result"
    }
   ],
   "source": [
    "model_glove.fit(data, np.array(labels), validation_split=0.2, epochs = 20)"
   ]
  },
  {
   "cell_type": "code",
   "execution_count": 169,
   "metadata": {},
   "outputs": [
    {
     "data": {
      "text/plain": [
       "3       1\n",
       "4       1\n",
       "5       1\n",
       "8       1\n",
       "9       1\n",
       "       ..\n",
       "6716    0\n",
       "6718    0\n",
       "6719    0\n",
       "6720    0\n",
       "6724    0\n",
       "Name: binary, Length: 5226, dtype: int64"
      ]
     },
     "execution_count": 169,
     "metadata": {},
     "output_type": "execute_result"
    }
   ],
   "source": [
    "labels"
   ]
  },
  {
   "cell_type": "code",
   "execution_count": null,
   "metadata": {},
   "outputs": [],
   "source": []
  },
  {
   "cell_type": "code",
   "execution_count": 170,
   "metadata": {},
   "outputs": [],
   "source": [
    "#The Second Model"
   ]
  },
  {
   "cell_type": "code",
   "execution_count": 172,
   "metadata": {},
   "outputs": [
    {
     "ename": "NameError",
     "evalue": "name 'data_c' is not defined",
     "output_type": "error",
     "traceback": [
      "\u001b[0;31m---------------------------------------------------------------------------\u001b[0m",
      "\u001b[0;31mNameError\u001b[0m                                 Traceback (most recent call last)",
      "\u001b[0;32m<ipython-input-172-367f91975c36>\u001b[0m in \u001b[0;36m<module>\u001b[0;34m\u001b[0m\n\u001b[0;32m----> 1\u001b[0;31m \u001b[0mdata_c\u001b[0m\u001b[0;34m\u001b[0m\u001b[0;34m\u001b[0m\u001b[0m\n\u001b[0m",
      "\u001b[0;31mNameError\u001b[0m: name 'data_c' is not defined"
     ]
    }
   ],
   "source": [
    "data_c"
   ]
  },
  {
   "cell_type": "code",
   "execution_count": null,
   "metadata": {},
   "outputs": [],
   "source": []
  }
 ],
 "metadata": {
  "kernelspec": {
   "display_name": "Python 3",
   "language": "python",
   "name": "python3"
  },
  "language_info": {
   "codemirror_mode": {
    "name": "ipython",
    "version": 3
   },
   "file_extension": ".py",
   "mimetype": "text/x-python",
   "name": "python",
   "nbconvert_exporter": "python",
   "pygments_lexer": "ipython3",
   "version": "3.7.7"
  }
 },
 "nbformat": 4,
 "nbformat_minor": 4
}
